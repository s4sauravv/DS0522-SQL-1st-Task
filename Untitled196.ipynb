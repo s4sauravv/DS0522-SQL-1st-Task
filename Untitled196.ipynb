{
 "cells": [
  {
   "cell_type": "code",
   "execution_count": 1,
   "id": "f421cb7d",
   "metadata": {},
   "outputs": [],
   "source": [
    "import sqlite3"
   ]
  },
  {
   "cell_type": "code",
   "execution_count": 9,
   "id": "fa6251e5",
   "metadata": {},
   "outputs": [
    {
     "data": {
      "text/plain": [
       "<sqlite3.Cursor at 0x26a99f88ea0>"
      ]
     },
     "execution_count": 9,
     "metadata": {},
     "output_type": "execute_result"
    }
   ],
   "source": [
    "db=sqlite3.connect(\"my_database1.db\")\n",
    "db.execute(\"drop table if exists TIMES1\")\n",
    "db.execute(\"create table TIMES1(name text ,emp_id int,salary int,gender text,age int)\")\n",
    "db.execute(\"insert into TIMES1(name,emp_id,salary,gender,age)values('Saurav',100001,20200,'Male',25)\")\n",
    "db.execute(\"insert into TIMES1(name,emp_id,salary,gender,age)values('Gaurav',100002,30200,'Male',35)\")\n",
    "db.execute(\"insert into TIMES1(name,emp_id,salary,gender,age)values('Lovely',100003,45200,'Female',20)\")\n",
    "db.execute(\"insert into TIMES1(name,emp_id,salary,gender,age)values('Rohit',100004,90200,'Male',35)\")\n",
    "db.execute(\"insert into TIMES1(name,emp_id,salary,gender,age)values('Ratnesh',100005,70200,'Male',47)\")\n",
    "db.execute(\"insert into TIMES1(name,emp_id,salary,gender,age)values('Shailesh',100006,15200,'Male',50)\")\n",
    "db.execute(\"insert into TIMES1(name,emp_id,salary,gender,age)values('Madhvi',100007,45200,'Female',24)\")\n",
    "db.execute(\"insert into TIMES1(name,emp_id,salary,gender,age)values('Riya',100008,35600,'Female',52)\")\n",
    "db.execute(\"insert into TIMES1(name,emp_id,salary,gender,age)values('Sagar',100009,87400,'Male',32)\")\n",
    "db.execute(\"insert into TIMES1(name,emp_id,salary,gender,age)values('Amisha',100010,12000,'Female',20)\")"
   ]
  },
  {
   "cell_type": "code",
   "execution_count": 10,
   "id": "cabb2b9b",
   "metadata": {},
   "outputs": [],
   "source": [
    "db.commit()"
   ]
  },
  {
   "cell_type": "code",
   "execution_count": 13,
   "id": "55313629",
   "metadata": {},
   "outputs": [
    {
     "name": "stdout",
     "output_type": "stream",
     "text": [
      "************************************************************\n",
      "('Saurav', 100001, 20200, 'Male', 25)\n",
      "('Gaurav', 100002, 30200, 'Male', 35)\n",
      "('Lovely', 100003, 45200, 'Female', 20)\n",
      "('Rohit', 100004, 90200, 'Male', 35)\n",
      "('Ratnesh', 100005, 70200, 'Male', 47)\n",
      "('Shailesh', 100006, 15200, 'Male', 50)\n",
      "('Madhvi', 100007, 45200, 'Female', 24)\n",
      "('Riya', 100008, 35600, 'Female', 52)\n",
      "('Sagar', 100009, 87400, 'Male', 32)\n",
      "('Amisha', 100010, 12000, 'Female', 20)\n",
      "************************************************************\n"
     ]
    }
   ],
   "source": [
    "print('*'*60)\n",
    "result=db.execute(\"select * from TIMES1 order by emp_id\")\n",
    "for row in result:\n",
    "    print(row)\n",
    "print('*'*60)    "
   ]
  },
  {
   "cell_type": "code",
   "execution_count": 17,
   "id": "f59917af",
   "metadata": {},
   "outputs": [
    {
     "name": "stdout",
     "output_type": "stream",
     "text": [
      "************************************************************\n",
      "('Saurav', 100001, 20200, 'Male', 25)\n",
      "('Lovely', 100003, 45200, 'Female', 20)\n",
      "('Madhvi', 100007, 45200, 'Female', 24)\n",
      "('Amisha', 100010, 12000, 'Female', 20)\n",
      "************************************************************\n"
     ]
    }
   ],
   "source": [
    "print('*'*60)\n",
    "result=db.execute(\"select * from TIMES1 where age<=30\")\n",
    "for row in result:\n",
    "    print(row)\n",
    "print('*'*60)"
   ]
  },
  {
   "cell_type": "code",
   "execution_count": 24,
   "id": "cd110d76",
   "metadata": {},
   "outputs": [
    {
     "name": "stdout",
     "output_type": "stream",
     "text": [
      "************************************************************\n",
      "('Rohit', 100004, 90200, 'Male', 35)\n",
      "('Sagar', 100009, 87400, 'Male', 32)\n",
      "('Ratnesh', 100005, 70200, 'Male', 47)\n",
      "('Lovely', 100003, 45200, 'Female', 20)\n",
      "('Madhvi', 100007, 45200, 'Female', 24)\n",
      "('Riya', 100008, 35600, 'Female', 52)\n",
      "('Gaurav', 100002, 30200, 'Male', 35)\n",
      "('Saurav', 100001, 20200, 'Male', 25)\n",
      "('Shailesh', 100006, 15200, 'Male', 50)\n",
      "('Amisha', 100010, 12000, 'Female', 20)\n",
      "************************************************************\n"
     ]
    }
   ],
   "source": [
    "print('*'*60)\n",
    "result=db.execute(\"select * from TIMES1 order by salary desc\")\n",
    "for row in result:\n",
    "    print (row)\n",
    "print('*'*60)"
   ]
  },
  {
   "cell_type": "code",
   "execution_count": 27,
   "id": "0653f971",
   "metadata": {},
   "outputs": [
    {
     "name": "stdout",
     "output_type": "stream",
     "text": [
      "************************************************************\n",
      "('Saurav', 20200)\n",
      "('Gaurav', 30200)\n",
      "('Lovely', 45200)\n",
      "('Rohit', 90200)\n",
      "('Ratnesh', 70200)\n",
      "('Shailesh', 15200)\n",
      "('Madhvi', 45200)\n",
      "('Riya', 35600)\n",
      "('Sagar', 87400)\n",
      "('Amisha', 12000)\n",
      "************************************************************\n"
     ]
    }
   ],
   "source": [
    "print('*'*60)\n",
    "result=db.execute(\"select name,salary from TIMES1 order by emp_id\")\n",
    "for row in result:\n",
    "    print(row)\n",
    "print('*'*60)    \n",
    "    "
   ]
  },
  {
   "cell_type": "code",
   "execution_count": 31,
   "id": "481d6779",
   "metadata": {},
   "outputs": [
    {
     "name": "stdout",
     "output_type": "stream",
     "text": [
      "************************************************************\n",
      "('Amisha',)\n",
      "('Shailesh',)\n",
      "('Saurav',)\n",
      "('Gaurav',)\n",
      "('Riya',)\n",
      "('Lovely',)\n",
      "('Madhvi',)\n",
      "('Ratnesh',)\n",
      "('Sagar',)\n",
      "('Rohit',)\n",
      "************************************************************\n"
     ]
    }
   ],
   "source": [
    "print('*'*60)\n",
    "result=db.execute(\"select name from TIMES1 order by salary\")\n",
    "for row in result:\n",
    "    print(row)\n",
    "print('*'*60)    "
   ]
  },
  {
   "cell_type": "code",
   "execution_count": null,
   "id": "642f7628",
   "metadata": {},
   "outputs": [],
   "source": []
  }
 ],
 "metadata": {
  "kernelspec": {
   "display_name": "Python 3 (ipykernel)",
   "language": "python",
   "name": "python3"
  },
  "language_info": {
   "codemirror_mode": {
    "name": "ipython",
    "version": 3
   },
   "file_extension": ".py",
   "mimetype": "text/x-python",
   "name": "python",
   "nbconvert_exporter": "python",
   "pygments_lexer": "ipython3",
   "version": "3.9.7"
  }
 },
 "nbformat": 4,
 "nbformat_minor": 5
}
